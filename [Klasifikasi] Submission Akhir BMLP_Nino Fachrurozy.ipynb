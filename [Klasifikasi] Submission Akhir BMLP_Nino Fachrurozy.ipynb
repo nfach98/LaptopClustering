{
 "cells": [
  {
   "cell_type": "markdown",
   "metadata": {
    "id": "fKADPWcFKlj3"
   },
   "source": [
    "# **1. Import Library**"
   ]
  },
  {
   "cell_type": "markdown",
   "metadata": {
    "id": "LgA3ERnVn84N"
   },
   "source": [
    "Pada tahap ini, Anda perlu mengimpor beberapa pustaka (library) Python yang dibutuhkan untuk analisis data dan pembangunan model machine learning."
   ]
  },
  {
   "cell_type": "code",
   "execution_count": 1,
   "metadata": {
    "id": "BlmvjLY9M4Yj"
   },
   "outputs": [],
   "source": [
    "import pandas as pd\n",
    "import seaborn as sns\n",
    "import matplotlib.pyplot as plt\n",
    "import numpy as np\n",
    "\n",
    "from sklearn.model_selection import train_test_split, GridSearchCV\n",
    "from sklearn.preprocessing import LabelEncoder, StandardScaler, MinMaxScaler\n",
    "from sklearn.neighbors import KNeighborsClassifier\n",
    "from sklearn.tree import DecisionTreeClassifier\n",
    "from sklearn.ensemble import RandomForestClassifier\n",
    "from sklearn.svm import SVC\n",
    "from sklearn.naive_bayes import GaussianNB\n",
    "from sklearn.metrics import confusion_matrix, accuracy_score, precision_score, recall_score, f1_score"
   ]
  },
  {
   "cell_type": "markdown",
   "metadata": {
    "id": "f3YIEnAFKrKL"
   },
   "source": [
    "# **2. Memuat Dataset dari Hasil Clustering**"
   ]
  },
  {
   "cell_type": "markdown",
   "metadata": {
    "id": "Ey3ItwTen_7E"
   },
   "source": [
    "Memuat dataset hasil clustering dari file CSV ke dalam variabel DataFrame."
   ]
  },
  {
   "cell_type": "code",
   "execution_count": 69,
   "metadata": {
    "id": "GHCGNTyrM5fS"
   },
   "outputs": [
    {
     "data": {
      "text/html": [
       "<div>\n",
       "<style scoped>\n",
       "    .dataframe tbody tr th:only-of-type {\n",
       "        vertical-align: middle;\n",
       "    }\n",
       "\n",
       "    .dataframe tbody tr th {\n",
       "        vertical-align: top;\n",
       "    }\n",
       "\n",
       "    .dataframe thead th {\n",
       "        text-align: right;\n",
       "    }\n",
       "</style>\n",
       "<table border=\"1\" class=\"dataframe\">\n",
       "  <thead>\n",
       "    <tr style=\"text-align: right;\">\n",
       "      <th></th>\n",
       "      <th>Company</th>\n",
       "      <th>Product</th>\n",
       "      <th>TypeName</th>\n",
       "      <th>Inches</th>\n",
       "      <th>Ram</th>\n",
       "      <th>OS</th>\n",
       "      <th>Weight</th>\n",
       "      <th>Price_euros</th>\n",
       "      <th>Screen</th>\n",
       "      <th>ScreenW</th>\n",
       "      <th>...</th>\n",
       "      <th>Process (nm)</th>\n",
       "      <th>Cores (Shaders)</th>\n",
       "      <th>Base Clock (MHz)</th>\n",
       "      <th>Memory Size (GB)</th>\n",
       "      <th>Memory Type</th>\n",
       "      <th>Memory Bus Width (bits)</th>\n",
       "      <th>TDP (W)</th>\n",
       "      <th>Integrated GPU</th>\n",
       "      <th>Mobile GPU</th>\n",
       "      <th>Cluster</th>\n",
       "    </tr>\n",
       "  </thead>\n",
       "  <tbody>\n",
       "    <tr>\n",
       "      <th>0</th>\n",
       "      <td>Apple</td>\n",
       "      <td>MacBook Pro</td>\n",
       "      <td>0.4</td>\n",
       "      <td>0.385542</td>\n",
       "      <td>0.096774</td>\n",
       "      <td>1.0</td>\n",
       "      <td>0.169576</td>\n",
       "      <td>0.194307</td>\n",
       "      <td>0.000000</td>\n",
       "      <td>0.482619</td>\n",
       "      <td>...</td>\n",
       "      <td>0.0</td>\n",
       "      <td>48 Execution Units</td>\n",
       "      <td>0.518583</td>\n",
       "      <td>0.00</td>\n",
       "      <td>No</td>\n",
       "      <td>0.00</td>\n",
       "      <td>0.032258</td>\n",
       "      <td>1</td>\n",
       "      <td>1</td>\n",
       "      <td>2</td>\n",
       "    </tr>\n",
       "    <tr>\n",
       "      <th>1</th>\n",
       "      <td>Apple</td>\n",
       "      <td>Macbook Air</td>\n",
       "      <td>0.4</td>\n",
       "      <td>0.385542</td>\n",
       "      <td>0.096774</td>\n",
       "      <td>1.0</td>\n",
       "      <td>0.162095</td>\n",
       "      <td>0.119693</td>\n",
       "      <td>0.000000</td>\n",
       "      <td>0.029911</td>\n",
       "      <td>...</td>\n",
       "      <td>0.0</td>\n",
       "      <td>48 Execution Units</td>\n",
       "      <td>0.475367</td>\n",
       "      <td>0.00</td>\n",
       "      <td>No</td>\n",
       "      <td>0.00</td>\n",
       "      <td>0.032258</td>\n",
       "      <td>1</td>\n",
       "      <td>1</td>\n",
       "      <td>2</td>\n",
       "    </tr>\n",
       "    <tr>\n",
       "      <th>2</th>\n",
       "      <td>HP</td>\n",
       "      <td>250 G6</td>\n",
       "      <td>0.2</td>\n",
       "      <td>0.662651</td>\n",
       "      <td>0.096774</td>\n",
       "      <td>0.0</td>\n",
       "      <td>0.291771</td>\n",
       "      <td>0.064854</td>\n",
       "      <td>0.333333</td>\n",
       "      <td>0.223929</td>\n",
       "      <td>...</td>\n",
       "      <td>0.0</td>\n",
       "      <td>24 Execution Units</td>\n",
       "      <td>0.518583</td>\n",
       "      <td>0.00</td>\n",
       "      <td>No</td>\n",
       "      <td>0.00</td>\n",
       "      <td>0.032258</td>\n",
       "      <td>1</td>\n",
       "      <td>1</td>\n",
       "      <td>2</td>\n",
       "    </tr>\n",
       "    <tr>\n",
       "      <th>3</th>\n",
       "      <td>Apple</td>\n",
       "      <td>MacBook Pro</td>\n",
       "      <td>0.4</td>\n",
       "      <td>0.638554</td>\n",
       "      <td>0.225806</td>\n",
       "      <td>1.0</td>\n",
       "      <td>0.284289</td>\n",
       "      <td>0.397073</td>\n",
       "      <td>0.000000</td>\n",
       "      <td>0.611964</td>\n",
       "      <td>...</td>\n",
       "      <td>0.0</td>\n",
       "      <td>768 Stream Processors</td>\n",
       "      <td>0.350043</td>\n",
       "      <td>0.25</td>\n",
       "      <td>2</td>\n",
       "      <td>0.25</td>\n",
       "      <td>0.093702</td>\n",
       "      <td>0</td>\n",
       "      <td>1</td>\n",
       "      <td>1</td>\n",
       "    </tr>\n",
       "    <tr>\n",
       "      <th>4</th>\n",
       "      <td>Apple</td>\n",
       "      <td>MacBook Pro</td>\n",
       "      <td>0.4</td>\n",
       "      <td>0.385542</td>\n",
       "      <td>0.096774</td>\n",
       "      <td>1.0</td>\n",
       "      <td>0.169576</td>\n",
       "      <td>0.272841</td>\n",
       "      <td>0.000000</td>\n",
       "      <td>0.482619</td>\n",
       "      <td>...</td>\n",
       "      <td>0.0</td>\n",
       "      <td>48 Execution Units</td>\n",
       "      <td>0.561798</td>\n",
       "      <td>0.00</td>\n",
       "      <td>No</td>\n",
       "      <td>0.00</td>\n",
       "      <td>0.072197</td>\n",
       "      <td>1</td>\n",
       "      <td>1</td>\n",
       "      <td>2</td>\n",
       "    </tr>\n",
       "  </tbody>\n",
       "</table>\n",
       "<p>5 rows × 37 columns</p>\n",
       "</div>"
      ],
      "text/plain": [
       "  Company      Product  TypeName    Inches       Ram   OS    Weight  \\\n",
       "0   Apple  MacBook Pro       0.4  0.385542  0.096774  1.0  0.169576   \n",
       "1   Apple  Macbook Air       0.4  0.385542  0.096774  1.0  0.162095   \n",
       "2      HP       250 G6       0.2  0.662651  0.096774  0.0  0.291771   \n",
       "3   Apple  MacBook Pro       0.4  0.638554  0.225806  1.0  0.284289   \n",
       "4   Apple  MacBook Pro       0.4  0.385542  0.096774  1.0  0.169576   \n",
       "\n",
       "   Price_euros    Screen   ScreenW  ...  Process (nm)        Cores (Shaders)  \\\n",
       "0     0.194307  0.000000  0.482619  ...           0.0     48 Execution Units   \n",
       "1     0.119693  0.000000  0.029911  ...           0.0     48 Execution Units   \n",
       "2     0.064854  0.333333  0.223929  ...           0.0     24 Execution Units   \n",
       "3     0.397073  0.000000  0.611964  ...           0.0  768 Stream Processors   \n",
       "4     0.272841  0.000000  0.482619  ...           0.0     48 Execution Units   \n",
       "\n",
       "   Base Clock (MHz)  Memory Size (GB) Memory Type  Memory Bus Width (bits)  \\\n",
       "0          0.518583              0.00          No                     0.00   \n",
       "1          0.475367              0.00          No                     0.00   \n",
       "2          0.518583              0.00          No                     0.00   \n",
       "3          0.350043              0.25           2                     0.25   \n",
       "4          0.561798              0.00          No                     0.00   \n",
       "\n",
       "    TDP (W)  Integrated GPU  Mobile GPU  Cluster  \n",
       "0  0.032258               1           1        2  \n",
       "1  0.032258               1           1        2  \n",
       "2  0.032258               1           1        2  \n",
       "3  0.093702               0           1        1  \n",
       "4  0.072197               1           1        2  \n",
       "\n",
       "[5 rows x 37 columns]"
      ]
     },
     "execution_count": 69,
     "metadata": {},
     "output_type": "execute_result"
    }
   ],
   "source": [
    "df_scaled = pd.read_csv('https://raw.githubusercontent.com/nfach98/LaptopClustering/refs/heads/main/laptop-clusters.csv')\n",
    "df_scaled.head()"
   ]
  },
  {
   "cell_type": "markdown",
   "metadata": {
    "id": "KkPem5eWL2UP"
   },
   "source": [
    "# **3. Data Splitting**"
   ]
  },
  {
   "cell_type": "markdown",
   "metadata": {
    "id": "YYj1rl_JNI9Y"
   },
   "source": [
    "Tahap Data Splitting bertujuan untuk memisahkan dataset menjadi dua bagian: data latih (training set) dan data uji (test set)."
   ]
  },
  {
   "cell_type": "code",
   "execution_count": 71,
   "metadata": {
    "id": "OubAW-7ONKVj"
   },
   "outputs": [
    {
     "name": "stdout",
     "output_type": "stream",
     "text": [
      "Training set shape: X_train=(866, 25), y_train=(866,)\n",
      "Test set shape: X_test=(372, 25), y_test=(372,)\n"
     ]
    }
   ],
   "source": [
    "X = df_scaled.select_dtypes(include=['number']).drop(['Cluster'], axis=1).values\n",
    "y = df_scaled['Cluster'].values\n",
    "X_train, X_test, y_train, y_test = train_test_split(X, y, test_size=0.3, random_state=42)\n",
    "\n",
    "print(f\"Training set shape: X_train={X_train.shape}, y_train={y_train.shape}\")\n",
    "print(f\"Test set shape: X_test={X_test.shape}, y_test={y_test.shape}\")"
   ]
  },
  {
   "cell_type": "markdown",
   "metadata": {
    "id": "IVPbB03CMhTT"
   },
   "source": [
    "# **4. Membangun Model Klasifikasi**\n"
   ]
  },
  {
   "cell_type": "markdown",
   "metadata": {
    "id": "Ned1pL9zMmBK"
   },
   "source": [
    "## **a. Membangun Model Klasifikasi**"
   ]
  },
  {
   "cell_type": "markdown",
   "metadata": {
    "id": "WAWzPOE4Nkti"
   },
   "source": [
    "Setelah memilih algoritma klasifikasi yang sesuai, langkah selanjutnya adalah melatih model menggunakan data latih.\n",
    "\n",
    "Berikut adalah rekomendasi tahapannya.\n",
    "1. Pilih algoritma klasifikasi yang sesuai, seperti Logistic Regression, Decision Tree, Random Forest, atau K-Nearest Neighbors (KNN).\n",
    "2. Latih model menggunakan data latih."
   ]
  },
  {
   "cell_type": "code",
   "execution_count": 72,
   "metadata": {
    "id": "4JYxBe87NLDk"
   },
   "outputs": [],
   "source": [
    "knn = KNeighborsClassifier().fit(X_train, y_train)\n",
    "dt = DecisionTreeClassifier().fit(X_train, y_train)\n",
    "rf = RandomForestClassifier().fit(X_train, y_train)\n",
    "svm = SVC().fit(X_train, y_train)\n",
    "nb = GaussianNB().fit(X_train, y_train)"
   ]
  },
  {
   "cell_type": "markdown",
   "metadata": {
    "id": "seYoHNY3XU1y"
   },
   "source": [
    "Tulis narasi atau penjelasan algoritma yang Anda gunakan."
   ]
  },
  {
   "cell_type": "markdown",
   "metadata": {
    "id": "ergzChZFEL-O"
   },
   "source": [
    "## **b. Evaluasi Model Klasifikasi**"
   ]
  },
  {
   "cell_type": "markdown",
   "metadata": {
    "id": "zOm68u-7NpLT"
   },
   "source": [
    "Berikut adalah **rekomendasi** tahapannya.\n",
    "1. Lakukan prediksi menggunakan data uji.\n",
    "2. Hitung metrik evaluasi seperti Accuracy dan F1-Score (Opsional: Precision dan Recall).\n",
    "3. Buat confusion matrix untuk melihat detail prediksi benar dan salah."
   ]
  },
  {
   "cell_type": "code",
   "execution_count": 73,
   "metadata": {
    "id": "tMq4QAssNLip"
   },
   "outputs": [],
   "source": [
    "def evaluate_model(model, X_test, y_test):\n",
    "    y_pred = model.predict(X_test)\n",
    "    cm = confusion_matrix(y_test, y_pred, labels=[0,1,2,3])\n",
    "    tn, fp, fn, tp = np.array(cm.ravel()).reshape((4,4))\n",
    "    return {\n",
    "        'Confusion Matrix': cm,\n",
    "        'True Positive (TP)': tp,\n",
    "        'False Positive (FP)': fp,\n",
    "        'False Negative (FN)': fn,\n",
    "        'True Negative (TN)': tn,\n",
    "        'Accuracy': accuracy_score(y_test, y_pred),\n",
    "        'Precision': precision_score(y_test, y_pred, average='weighted'),\n",
    "        'Recall': recall_score(y_test, y_pred, average='weighted'),\n",
    "        'F1-Score': f1_score(y_test, y_pred, average='weighted')\n",
    "    }"
   ]
  },
  {
   "cell_type": "code",
   "execution_count": 74,
   "metadata": {},
   "outputs": [
    {
     "data": {
      "text/html": [
       "<div>\n",
       "<style scoped>\n",
       "    .dataframe tbody tr th:only-of-type {\n",
       "        vertical-align: middle;\n",
       "    }\n",
       "\n",
       "    .dataframe tbody tr th {\n",
       "        vertical-align: top;\n",
       "    }\n",
       "\n",
       "    .dataframe thead th {\n",
       "        text-align: right;\n",
       "    }\n",
       "</style>\n",
       "<table border=\"1\" class=\"dataframe\">\n",
       "  <thead>\n",
       "    <tr style=\"text-align: right;\">\n",
       "      <th></th>\n",
       "      <th>Model</th>\n",
       "      <th>Accuracy</th>\n",
       "      <th>Precision</th>\n",
       "      <th>Recall</th>\n",
       "      <th>F1-Score</th>\n",
       "    </tr>\n",
       "  </thead>\n",
       "  <tbody>\n",
       "    <tr>\n",
       "      <th>0</th>\n",
       "      <td>K-Nearest Neighbors (KNN)</td>\n",
       "      <td>0.997312</td>\n",
       "      <td>0.997328</td>\n",
       "      <td>0.997312</td>\n",
       "      <td>0.997308</td>\n",
       "    </tr>\n",
       "    <tr>\n",
       "      <th>1</th>\n",
       "      <td>Decision Tree (DT)</td>\n",
       "      <td>1.000000</td>\n",
       "      <td>1.000000</td>\n",
       "      <td>1.000000</td>\n",
       "      <td>1.000000</td>\n",
       "    </tr>\n",
       "    <tr>\n",
       "      <th>2</th>\n",
       "      <td>Random Forest (RF)</td>\n",
       "      <td>1.000000</td>\n",
       "      <td>1.000000</td>\n",
       "      <td>1.000000</td>\n",
       "      <td>1.000000</td>\n",
       "    </tr>\n",
       "    <tr>\n",
       "      <th>3</th>\n",
       "      <td>Support Vector Machine (SVM)</td>\n",
       "      <td>1.000000</td>\n",
       "      <td>1.000000</td>\n",
       "      <td>1.000000</td>\n",
       "      <td>1.000000</td>\n",
       "    </tr>\n",
       "    <tr>\n",
       "      <th>4</th>\n",
       "      <td>Naive Bayes (NB)</td>\n",
       "      <td>0.994624</td>\n",
       "      <td>0.994690</td>\n",
       "      <td>0.994624</td>\n",
       "      <td>0.994581</td>\n",
       "    </tr>\n",
       "  </tbody>\n",
       "</table>\n",
       "</div>"
      ],
      "text/plain": [
       "                          Model  Accuracy  Precision    Recall  F1-Score\n",
       "0     K-Nearest Neighbors (KNN)  0.997312   0.997328  0.997312  0.997308\n",
       "1            Decision Tree (DT)  1.000000   1.000000  1.000000  1.000000\n",
       "2            Random Forest (RF)  1.000000   1.000000  1.000000  1.000000\n",
       "3  Support Vector Machine (SVM)  1.000000   1.000000  1.000000  1.000000\n",
       "4              Naive Bayes (NB)  0.994624   0.994690  0.994624  0.994581"
      ]
     },
     "execution_count": 74,
     "metadata": {},
     "output_type": "execute_result"
    }
   ],
   "source": [
    "results = {\n",
    "    'K-Nearest Neighbors (KNN)': evaluate_model(knn, X_test, y_test),\n",
    "    'Decision Tree (DT)': evaluate_model(dt, X_test, y_test),\n",
    "    'Random Forest (RF)': evaluate_model(rf, X_test, y_test),\n",
    "    'Support Vector Machine (SVM)': evaluate_model(svm, X_test, y_test),\n",
    "    'Naive Bayes (NB)': evaluate_model(nb, X_test, y_test)\n",
    "}\n",
    "\n",
    "rows = []\n",
    "for model_name, metrics in results.items():\n",
    "    rows.append({\n",
    "        'Model': model_name,\n",
    "        'Accuracy': metrics['Accuracy'],\n",
    "        'Precision': metrics['Precision'],\n",
    "        'Recall': metrics['Recall'],\n",
    "        'F1-Score': metrics['F1-Score']\n",
    "    })\n",
    "\n",
    "df_scores = pd.DataFrame(columns=['Model', 'Accuracy', 'Precision', 'Recall', 'F1-Score'])\n",
    "df_scores = pd.DataFrame(rows)\n",
    "df_scores"
   ]
  },
  {
   "cell_type": "code",
   "execution_count": 75,
   "metadata": {},
   "outputs": [
    {
     "data": {
      "image/png": "[encoded data removed]",
      "text/plain": [
       "<Figure size 640x480 with 2 Axes>"
      ]
     },
     "metadata": {},
     "output_type": "display_data"
    }
   ],
   "source": [
    "cm = results['Naive Bayes (NB)']['Confusion Matrix']\n",
    "sns.heatmap(\n",
    "    cm, \n",
    "    annot=True,\n",
    "    fmt='g',\n",
    "    xticklabels=['Low-end','Consumer', 'Professional', 'Productivity'],\n",
    "    yticklabels=['Low-end','Consumer', 'Professional', 'Productivity']\n",
    ")\n",
    "plt.title('Confusion Matrix', fontsize=17, pad=20)\n",
    "plt.xlabel('Prediksi', fontsize=13)\n",
    "plt.ylabel('Aktual', fontsize=13)\n",
    "\n",
    "plt.gca().xaxis.tick_top()\n",
    "plt.gca().figure.subplots_adjust(bottom=0.2)\n",
    "plt.show()\n"
   ]
  },
  {
   "cell_type": "markdown",
   "metadata": {
    "id": "H4_9OwrsXZlz"
   },
   "source": [
    "Tulis hasil evaluasi algoritma yang digunakan, jika Anda menggunakan 2 algoritma, maka bandingkan hasilnya."
   ]
  },
  {
   "cell_type": "markdown",
   "metadata": {},
   "source": [
    "Dari 5 algoritma yang dicoba, semuanya ternyata mempunyai skor yang tinggi, bahkan 3 di antaranya memiliki akurasi 1.0 atau 100%. Sehingga jika berdasarkan skor maka algoritma terbaik adalah Desicion Tree, Random Forest, dan Support Vector Machine."
   ]
  },
  {
   "cell_type": "markdown",
   "metadata": {
    "id": "ph9yIYDXEPuB"
   },
   "source": [
    "## **c. Tuning Model Klasifikasi (Optional)**"
   ]
  },
  {
   "cell_type": "markdown",
   "metadata": {
    "id": "-Bikx3LINv5e"
   },
   "source": [
    "Gunakan GridSearchCV, RandomizedSearchCV, atau metode lainnya untuk mencari kombinasi hyperparameter terbaik"
   ]
  },
  {
   "cell_type": "code",
   "execution_count": null,
   "metadata": {
    "id": "winbFzb8NL95"
   },
   "outputs": [],
   "source": [
    "#Type your code here"
   ]
  },
  {
   "cell_type": "markdown",
   "metadata": {
    "id": "hE7pqlEPEYzI"
   },
   "source": [
    "## **d. Evaluasi Model Klasifikasi setelah Tuning (Optional)**"
   ]
  },
  {
   "cell_type": "markdown",
   "metadata": {
    "id": "feaPESoeN0zz"
   },
   "source": [
    "Berikut adalah rekomendasi tahapannya.\n",
    "1. Gunakan model dengan hyperparameter terbaik.\n",
    "2. Hitung ulang metrik evaluasi untuk melihat apakah ada peningkatan performa."
   ]
  },
  {
   "cell_type": "code",
   "execution_count": null,
   "metadata": {
    "id": "HTXZRvEeNMb1"
   },
   "outputs": [],
   "source": [
    "#Type your code here"
   ]
  },
  {
   "cell_type": "markdown",
   "metadata": {
    "id": "ZRsOdm4uEgAW"
   },
   "source": [
    "## **e. Analisis Hasil Evaluasi Model Klasifikasi**"
   ]
  },
  {
   "cell_type": "markdown",
   "metadata": {
    "id": "Hm3BhSi6N4_l"
   },
   "source": [
    "Berikut adalah **rekomendasi** tahapannya.\n",
    "1. Bandingkan hasil evaluasi sebelum dan setelah tuning (jika dilakukan).\n",
    "2. Identifikasi kelemahan model, seperti:\n",
    "  - Precision atau Recall rendah untuk kelas tertentu.\n",
    "  - Apakah model mengalami overfitting atau underfitting?\n",
    "3. Berikan rekomendasi tindakan lanjutan, seperti mengumpulkan data tambahan atau mencoba algoritma lain jika hasil belum memuaskan."
   ]
  },
  {
   "cell_type": "markdown",
   "metadata": {},
   "source": [
    "Dari beberapa algoritma yang dicoba, semuanya menghasilkan performa yang baik, bahkan beberapa di antaranya mendapat skor 1.0 dalam semua metrik. Sehingga tidak dilakukan lagi proses hyperparameter tuning. Hal ini mungkin disebabkan karena silhouette skor yang sudah tinggi ketika menghasilkan dataset pada tahap clustering sebelumnya, sehingga kecocokan model tinggi.\n",
    "\n",
    "Walaupun terdapat algoritma yang menghasilkan akurasi hingga 1.0, tetapi dalam hal ini diputuskan untuk memilih algoritma Naive Bayes karena hasilnya lebih sesuai dengan hasil clustering di tahap sebelumnya, di mana ketika dibuat dalam plot ada sebagian kecil data yang termasuk dalam cluster lain yang lebih jauh dari cluster terdekatnya.\n",
    "\n",
    "Namun akurasi tinggi hingga mendekati atau sama dengan 1.0 perlu diwaspadai karena bisa saja merupakan tanda overfitting terhadap data tes, sehingga diperlukan lebih banyak lagi baris dataset agar model yang dihasilkan lebih teruji."
   ]
  }
 ],
 "metadata": {
  "colab": {
   "provenance": [
    {
     "file_id": "1dygqHl-RYE0PmGXP74G__HNnnpjzoOT4",
     "timestamp": 1734506796398
    },
    {
     "file_id": "1d7-aiqmhHzOhHJtdj5TaBJnyf1pIN-rs",
     "timestamp": 1729232680021
    }
   ]
  },
  "kernelspec": {
   "display_name": "Python 3",
   "name": "python3"
  },
  "language_info": {
   "codemirror_mode": {
    "name": "ipython",
    "version": 3
   },
   "file_extension": ".py",
   "mimetype": "text/x-python",
   "name": "python",
   "nbconvert_exporter": "python",
   "pygments_lexer": "ipython3",
   "version": "3.12.6"
  }
 },
 "nbformat": 4,
 "nbformat_minor": 0
}
